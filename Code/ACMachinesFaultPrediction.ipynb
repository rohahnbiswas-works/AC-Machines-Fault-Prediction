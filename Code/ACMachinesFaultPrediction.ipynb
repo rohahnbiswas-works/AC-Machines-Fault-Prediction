{
  "nbformat": 4,
  "nbformat_minor": 0,
  "metadata": {
    "colab": {
      "provenance": [],
      "gpuType": "T4",
      "include_colab_link": true
    },
    "kernelspec": {
      "name": "python3",
      "display_name": "Python 3"
    },
    "language_info": {
      "name": "python"
    }
  },
  "cells": [
    {
      "cell_type": "markdown",
      "metadata": {
        "id": "view-in-github",
        "colab_type": "text"
      },
      "source": [
        "<a href=\"https://colab.research.google.com/github/rohahnbiswas-works/AC-Machines-Fault-Prediction/blob/main/Code/ACMachinesFaultPrediction.ipynb\" target=\"_parent\"><img src=\"https://colab.research.google.com/assets/colab-badge.svg\" alt=\"Open In Colab\"/></a>"
      ]
    },
    {
      "cell_type": "code",
      "execution_count": null,
      "metadata": {
        "id": "t1tr36ZfgX7-"
      },
      "outputs": [],
      "source": [
        "import pandas as pd\n",
        "import numpy as np\n",
        "import matplotlib.pyplot as plt\n",
        "import seaborn as sns\n",
        "from sklearn.model_selection import train_test_split\n",
        "import scipy.stats as stats\n",
        "from sklearn.linear_model import LogisticRegression\n",
        "from sklearn.tree import DecisionTreeClassifier\n",
        "from sklearn.svm import SVC\n",
        "from sklearn.ensemble import RandomForestClassifier,GradientBoostingClassifier,BaggingClassifier,AdaBoostClassifier\n",
        "from sklearn.neighbors import KNeighborsClassifier\n",
        "from sklearn.preprocessing import StandardScaler\n",
        "from sklearn.metrics import classification_report,confusion_matrix,accuracy_score,precision_score, recall_score\n",
        "import warnings\n",
        "warnings.filterwarnings('ignore')"
      ]
    },
    {
      "cell_type": "code",
      "source": [
        "from google.colab import drive\n",
        "drive.mount('/content/drive')"
      ],
      "metadata": {
        "id": "ntbj6AybK7eo",
        "colab": {
          "base_uri": "https://localhost:8080/"
        },
        "outputId": "e8d6c023-6f52-480f-a98b-8c6ef56d14fa"
      },
      "execution_count": null,
      "outputs": [
        {
          "output_type": "stream",
          "name": "stdout",
          "text": [
            "Drive already mounted at /content/drive; to attempt to forcibly remount, call drive.mount(\"/content/drive\", force_remount=True).\n"
          ]
        }
      ]
    },
    {
      "cell_type": "code",
      "source": [
        "df = pd.read_csv('/content/drive/MyDrive/detect_dataset.csv')\n",
        "df.head()"
      ],
      "metadata": {
        "colab": {
          "base_uri": "https://localhost:8080/",
          "height": 206
        },
        "id": "ApbZX9wVgh2J",
        "outputId": "36d10373-f966-4af4-d1ed-71c65cb821f6"
      },
      "execution_count": null,
      "outputs": [
        {
          "output_type": "execute_result",
          "data": {
            "text/plain": [
              "   Output (S)          Ia        Ib          Ic        Va        Vb        Vc  \\\n",
              "0           0 -170.472196  9.219613  161.252583  0.054490 -0.659921  0.605431   \n",
              "1           0 -122.235754  6.168667  116.067087  0.102000 -0.628612  0.526202   \n",
              "2           0  -90.161474  3.813632   86.347841  0.141026 -0.605277  0.464251   \n",
              "3           0  -79.904916  2.398803   77.506112  0.156272 -0.602235  0.445963   \n",
              "4           0  -63.885255  0.590667   63.294587  0.180451 -0.591501  0.411050   \n",
              "\n",
              "   Unnamed: 7  Unnamed: 8  \n",
              "0         NaN         NaN  \n",
              "1         NaN         NaN  \n",
              "2         NaN         NaN  \n",
              "3         NaN         NaN  \n",
              "4         NaN         NaN  "
            ],
            "text/html": [
              "\n",
              "  <div id=\"df-1a868055-b97d-499b-a22f-e3cb68374d43\" class=\"colab-df-container\">\n",
              "    <div>\n",
              "<style scoped>\n",
              "    .dataframe tbody tr th:only-of-type {\n",
              "        vertical-align: middle;\n",
              "    }\n",
              "\n",
              "    .dataframe tbody tr th {\n",
              "        vertical-align: top;\n",
              "    }\n",
              "\n",
              "    .dataframe thead th {\n",
              "        text-align: right;\n",
              "    }\n",
              "</style>\n",
              "<table border=\"1\" class=\"dataframe\">\n",
              "  <thead>\n",
              "    <tr style=\"text-align: right;\">\n",
              "      <th></th>\n",
              "      <th>Output (S)</th>\n",
              "      <th>Ia</th>\n",
              "      <th>Ib</th>\n",
              "      <th>Ic</th>\n",
              "      <th>Va</th>\n",
              "      <th>Vb</th>\n",
              "      <th>Vc</th>\n",
              "      <th>Unnamed: 7</th>\n",
              "      <th>Unnamed: 8</th>\n",
              "    </tr>\n",
              "  </thead>\n",
              "  <tbody>\n",
              "    <tr>\n",
              "      <th>0</th>\n",
              "      <td>0</td>\n",
              "      <td>-170.472196</td>\n",
              "      <td>9.219613</td>\n",
              "      <td>161.252583</td>\n",
              "      <td>0.054490</td>\n",
              "      <td>-0.659921</td>\n",
              "      <td>0.605431</td>\n",
              "      <td>NaN</td>\n",
              "      <td>NaN</td>\n",
              "    </tr>\n",
              "    <tr>\n",
              "      <th>1</th>\n",
              "      <td>0</td>\n",
              "      <td>-122.235754</td>\n",
              "      <td>6.168667</td>\n",
              "      <td>116.067087</td>\n",
              "      <td>0.102000</td>\n",
              "      <td>-0.628612</td>\n",
              "      <td>0.526202</td>\n",
              "      <td>NaN</td>\n",
              "      <td>NaN</td>\n",
              "    </tr>\n",
              "    <tr>\n",
              "      <th>2</th>\n",
              "      <td>0</td>\n",
              "      <td>-90.161474</td>\n",
              "      <td>3.813632</td>\n",
              "      <td>86.347841</td>\n",
              "      <td>0.141026</td>\n",
              "      <td>-0.605277</td>\n",
              "      <td>0.464251</td>\n",
              "      <td>NaN</td>\n",
              "      <td>NaN</td>\n",
              "    </tr>\n",
              "    <tr>\n",
              "      <th>3</th>\n",
              "      <td>0</td>\n",
              "      <td>-79.904916</td>\n",
              "      <td>2.398803</td>\n",
              "      <td>77.506112</td>\n",
              "      <td>0.156272</td>\n",
              "      <td>-0.602235</td>\n",
              "      <td>0.445963</td>\n",
              "      <td>NaN</td>\n",
              "      <td>NaN</td>\n",
              "    </tr>\n",
              "    <tr>\n",
              "      <th>4</th>\n",
              "      <td>0</td>\n",
              "      <td>-63.885255</td>\n",
              "      <td>0.590667</td>\n",
              "      <td>63.294587</td>\n",
              "      <td>0.180451</td>\n",
              "      <td>-0.591501</td>\n",
              "      <td>0.411050</td>\n",
              "      <td>NaN</td>\n",
              "      <td>NaN</td>\n",
              "    </tr>\n",
              "  </tbody>\n",
              "</table>\n",
              "</div>\n",
              "    <div class=\"colab-df-buttons\">\n",
              "\n",
              "  <div class=\"colab-df-container\">\n",
              "    <button class=\"colab-df-convert\" onclick=\"convertToInteractive('df-1a868055-b97d-499b-a22f-e3cb68374d43')\"\n",
              "            title=\"Convert this dataframe to an interactive table.\"\n",
              "            style=\"display:none;\">\n",
              "\n",
              "  <svg xmlns=\"http://www.w3.org/2000/svg\" height=\"24px\" viewBox=\"0 -960 960 960\">\n",
              "    <path d=\"M120-120v-720h720v720H120Zm60-500h600v-160H180v160Zm220 220h160v-160H400v160Zm0 220h160v-160H400v160ZM180-400h160v-160H180v160Zm440 0h160v-160H620v160ZM180-180h160v-160H180v160Zm440 0h160v-160H620v160Z\"/>\n",
              "  </svg>\n",
              "    </button>\n",
              "\n",
              "  <style>\n",
              "    .colab-df-container {\n",
              "      display:flex;\n",
              "      gap: 12px;\n",
              "    }\n",
              "\n",
              "    .colab-df-convert {\n",
              "      background-color: #E8F0FE;\n",
              "      border: none;\n",
              "      border-radius: 50%;\n",
              "      cursor: pointer;\n",
              "      display: none;\n",
              "      fill: #1967D2;\n",
              "      height: 32px;\n",
              "      padding: 0 0 0 0;\n",
              "      width: 32px;\n",
              "    }\n",
              "\n",
              "    .colab-df-convert:hover {\n",
              "      background-color: #E2EBFA;\n",
              "      box-shadow: 0px 1px 2px rgba(60, 64, 67, 0.3), 0px 1px 3px 1px rgba(60, 64, 67, 0.15);\n",
              "      fill: #174EA6;\n",
              "    }\n",
              "\n",
              "    .colab-df-buttons div {\n",
              "      margin-bottom: 4px;\n",
              "    }\n",
              "\n",
              "    [theme=dark] .colab-df-convert {\n",
              "      background-color: #3B4455;\n",
              "      fill: #D2E3FC;\n",
              "    }\n",
              "\n",
              "    [theme=dark] .colab-df-convert:hover {\n",
              "      background-color: #434B5C;\n",
              "      box-shadow: 0px 1px 3px 1px rgba(0, 0, 0, 0.15);\n",
              "      filter: drop-shadow(0px 1px 2px rgba(0, 0, 0, 0.3));\n",
              "      fill: #FFFFFF;\n",
              "    }\n",
              "  </style>\n",
              "\n",
              "    <script>\n",
              "      const buttonEl =\n",
              "        document.querySelector('#df-1a868055-b97d-499b-a22f-e3cb68374d43 button.colab-df-convert');\n",
              "      buttonEl.style.display =\n",
              "        google.colab.kernel.accessAllowed ? 'block' : 'none';\n",
              "\n",
              "      async function convertToInteractive(key) {\n",
              "        const element = document.querySelector('#df-1a868055-b97d-499b-a22f-e3cb68374d43');\n",
              "        const dataTable =\n",
              "          await google.colab.kernel.invokeFunction('convertToInteractive',\n",
              "                                                    [key], {});\n",
              "        if (!dataTable) return;\n",
              "\n",
              "        const docLinkHtml = 'Like what you see? Visit the ' +\n",
              "          '<a target=\"_blank\" href=https://colab.research.google.com/notebooks/data_table.ipynb>data table notebook</a>'\n",
              "          + ' to learn more about interactive tables.';\n",
              "        element.innerHTML = '';\n",
              "        dataTable['output_type'] = 'display_data';\n",
              "        await google.colab.output.renderOutput(dataTable, element);\n",
              "        const docLink = document.createElement('div');\n",
              "        docLink.innerHTML = docLinkHtml;\n",
              "        element.appendChild(docLink);\n",
              "      }\n",
              "    </script>\n",
              "  </div>\n",
              "\n",
              "\n",
              "<div id=\"df-cca18c7b-dfd0-4ae2-a587-76528f5e3e2a\">\n",
              "  <button class=\"colab-df-quickchart\" onclick=\"quickchart('df-cca18c7b-dfd0-4ae2-a587-76528f5e3e2a')\"\n",
              "            title=\"Suggest charts\"\n",
              "            style=\"display:none;\">\n",
              "\n",
              "<svg xmlns=\"http://www.w3.org/2000/svg\" height=\"24px\"viewBox=\"0 0 24 24\"\n",
              "     width=\"24px\">\n",
              "    <g>\n",
              "        <path d=\"M19 3H5c-1.1 0-2 .9-2 2v14c0 1.1.9 2 2 2h14c1.1 0 2-.9 2-2V5c0-1.1-.9-2-2-2zM9 17H7v-7h2v7zm4 0h-2V7h2v10zm4 0h-2v-4h2v4z\"/>\n",
              "    </g>\n",
              "</svg>\n",
              "  </button>\n",
              "\n",
              "<style>\n",
              "  .colab-df-quickchart {\n",
              "      --bg-color: #E8F0FE;\n",
              "      --fill-color: #1967D2;\n",
              "      --hover-bg-color: #E2EBFA;\n",
              "      --hover-fill-color: #174EA6;\n",
              "      --disabled-fill-color: #AAA;\n",
              "      --disabled-bg-color: #DDD;\n",
              "  }\n",
              "\n",
              "  [theme=dark] .colab-df-quickchart {\n",
              "      --bg-color: #3B4455;\n",
              "      --fill-color: #D2E3FC;\n",
              "      --hover-bg-color: #434B5C;\n",
              "      --hover-fill-color: #FFFFFF;\n",
              "      --disabled-bg-color: #3B4455;\n",
              "      --disabled-fill-color: #666;\n",
              "  }\n",
              "\n",
              "  .colab-df-quickchart {\n",
              "    background-color: var(--bg-color);\n",
              "    border: none;\n",
              "    border-radius: 50%;\n",
              "    cursor: pointer;\n",
              "    display: none;\n",
              "    fill: var(--fill-color);\n",
              "    height: 32px;\n",
              "    padding: 0;\n",
              "    width: 32px;\n",
              "  }\n",
              "\n",
              "  .colab-df-quickchart:hover {\n",
              "    background-color: var(--hover-bg-color);\n",
              "    box-shadow: 0 1px 2px rgba(60, 64, 67, 0.3), 0 1px 3px 1px rgba(60, 64, 67, 0.15);\n",
              "    fill: var(--button-hover-fill-color);\n",
              "  }\n",
              "\n",
              "  .colab-df-quickchart-complete:disabled,\n",
              "  .colab-df-quickchart-complete:disabled:hover {\n",
              "    background-color: var(--disabled-bg-color);\n",
              "    fill: var(--disabled-fill-color);\n",
              "    box-shadow: none;\n",
              "  }\n",
              "\n",
              "  .colab-df-spinner {\n",
              "    border: 2px solid var(--fill-color);\n",
              "    border-color: transparent;\n",
              "    border-bottom-color: var(--fill-color);\n",
              "    animation:\n",
              "      spin 1s steps(1) infinite;\n",
              "  }\n",
              "\n",
              "  @keyframes spin {\n",
              "    0% {\n",
              "      border-color: transparent;\n",
              "      border-bottom-color: var(--fill-color);\n",
              "      border-left-color: var(--fill-color);\n",
              "    }\n",
              "    20% {\n",
              "      border-color: transparent;\n",
              "      border-left-color: var(--fill-color);\n",
              "      border-top-color: var(--fill-color);\n",
              "    }\n",
              "    30% {\n",
              "      border-color: transparent;\n",
              "      border-left-color: var(--fill-color);\n",
              "      border-top-color: var(--fill-color);\n",
              "      border-right-color: var(--fill-color);\n",
              "    }\n",
              "    40% {\n",
              "      border-color: transparent;\n",
              "      border-right-color: var(--fill-color);\n",
              "      border-top-color: var(--fill-color);\n",
              "    }\n",
              "    60% {\n",
              "      border-color: transparent;\n",
              "      border-right-color: var(--fill-color);\n",
              "    }\n",
              "    80% {\n",
              "      border-color: transparent;\n",
              "      border-right-color: var(--fill-color);\n",
              "      border-bottom-color: var(--fill-color);\n",
              "    }\n",
              "    90% {\n",
              "      border-color: transparent;\n",
              "      border-bottom-color: var(--fill-color);\n",
              "    }\n",
              "  }\n",
              "</style>\n",
              "\n",
              "  <script>\n",
              "    async function quickchart(key) {\n",
              "      const quickchartButtonEl =\n",
              "        document.querySelector('#' + key + ' button');\n",
              "      quickchartButtonEl.disabled = true;  // To prevent multiple clicks.\n",
              "      quickchartButtonEl.classList.add('colab-df-spinner');\n",
              "      try {\n",
              "        const charts = await google.colab.kernel.invokeFunction(\n",
              "            'suggestCharts', [key], {});\n",
              "      } catch (error) {\n",
              "        console.error('Error during call to suggestCharts:', error);\n",
              "      }\n",
              "      quickchartButtonEl.classList.remove('colab-df-spinner');\n",
              "      quickchartButtonEl.classList.add('colab-df-quickchart-complete');\n",
              "    }\n",
              "    (() => {\n",
              "      let quickchartButtonEl =\n",
              "        document.querySelector('#df-cca18c7b-dfd0-4ae2-a587-76528f5e3e2a button');\n",
              "      quickchartButtonEl.style.display =\n",
              "        google.colab.kernel.accessAllowed ? 'block' : 'none';\n",
              "    })();\n",
              "  </script>\n",
              "</div>\n",
              "\n",
              "    </div>\n",
              "  </div>\n"
            ],
            "application/vnd.google.colaboratory.intrinsic+json": {
              "type": "dataframe",
              "variable_name": "df",
              "summary": "{\n  \"name\": \"df\",\n  \"rows\": 12001,\n  \"fields\": [\n    {\n      \"column\": \"Output (S)\",\n      \"properties\": {\n        \"dtype\": \"number\",\n        \"std\": 0,\n        \"min\": 0,\n        \"max\": 1,\n        \"num_unique_values\": 2,\n        \"samples\": [\n          1,\n          0\n        ],\n        \"semantic_type\": \"\",\n        \"description\": \"\"\n      }\n    },\n    {\n      \"column\": \"Ia\",\n      \"properties\": {\n        \"dtype\": \"number\",\n        \"std\": 377.1584696606427,\n        \"min\": -883.5423165,\n        \"max\": 885.7385707,\n        \"num_unique_values\": 12001,\n        \"samples\": [\n          -3.616197874,\n          664.4536614\n        ],\n        \"semantic_type\": \"\",\n        \"description\": \"\"\n      }\n    },\n    {\n      \"column\": \"Ib\",\n      \"properties\": {\n        \"dtype\": \"number\",\n        \"std\": 357.45861265833565,\n        \"min\": -900.5269515,\n        \"max\": 889.8688838,\n        \"num_unique_values\": 12001,\n        \"samples\": [\n          54.90147399,\n          -841.3494391\n        ],\n        \"semantic_type\": \"\",\n        \"description\": \"\"\n      }\n    },\n    {\n      \"column\": \"Ic\",\n      \"properties\": {\n        \"dtype\": \"number\",\n        \"std\": 302.05280885125353,\n        \"min\": -883.3577621,\n        \"max\": 901.2742607,\n        \"num_unique_values\": 12001,\n        \"samples\": [\n          -54.9612497,\n          -26.12632658\n        ],\n        \"semantic_type\": \"\",\n        \"description\": \"\"\n      }\n    },\n    {\n      \"column\": \"Va\",\n      \"properties\": {\n        \"dtype\": \"number\",\n        \"std\": 0.3462208166683564,\n        \"min\": -0.62074797,\n        \"max\": 0.609863587,\n        \"num_unique_values\": 11996,\n        \"samples\": [\n          -0.421158238,\n          0.444234389\n        ],\n        \"semantic_type\": \"\",\n        \"description\": \"\"\n      }\n    },\n    {\n      \"column\": \"Vb\",\n      \"properties\": {\n        \"dtype\": \"number\",\n        \"std\": 0.3576435032292448,\n        \"min\": -0.659920931,\n        \"max\": 0.627874757,\n        \"num_unique_values\": 11813,\n        \"samples\": [\n          0.45370005,\n          -0.12368055\n        ],\n        \"semantic_type\": \"\",\n        \"description\": \"\"\n      }\n    },\n    {\n      \"column\": \"Vc\",\n      \"properties\": {\n        \"dtype\": \"number\",\n        \"std\": 0.34927187675497695,\n        \"min\": -0.612709171,\n        \"max\": 0.608242799,\n        \"num_unique_values\": 11987,\n        \"samples\": [\n          -0.05057768,\n          -0.598466853\n        ],\n        \"semantic_type\": \"\",\n        \"description\": \"\"\n      }\n    },\n    {\n      \"column\": \"Unnamed: 7\",\n      \"properties\": {\n        \"dtype\": \"number\",\n        \"std\": null,\n        \"min\": null,\n        \"max\": null,\n        \"num_unique_values\": 0,\n        \"samples\": [],\n        \"semantic_type\": \"\",\n        \"description\": \"\"\n      }\n    },\n    {\n      \"column\": \"Unnamed: 8\",\n      \"properties\": {\n        \"dtype\": \"number\",\n        \"std\": null,\n        \"min\": null,\n        \"max\": null,\n        \"num_unique_values\": 0,\n        \"samples\": [],\n        \"semantic_type\": \"\",\n        \"description\": \"\"\n      }\n    }\n  ]\n}"
            }
          },
          "metadata": {},
          "execution_count": 5
        }
      ]
    },
    {
      "cell_type": "code",
      "source": [
        "df.info()"
      ],
      "metadata": {
        "colab": {
          "base_uri": "https://localhost:8080/"
        },
        "id": "Va9kkcAWguq9",
        "outputId": "7455eb49-e9a8-4acf-e265-a32c3bba1178"
      },
      "execution_count": null,
      "outputs": [
        {
          "output_type": "stream",
          "name": "stdout",
          "text": [
            "<class 'pandas.core.frame.DataFrame'>\n",
            "RangeIndex: 12001 entries, 0 to 12000\n",
            "Data columns (total 9 columns):\n",
            " #   Column      Non-Null Count  Dtype  \n",
            "---  ------      --------------  -----  \n",
            " 0   Output (S)  12001 non-null  int64  \n",
            " 1   Ia          12001 non-null  float64\n",
            " 2   Ib          12001 non-null  float64\n",
            " 3   Ic          12001 non-null  float64\n",
            " 4   Va          12001 non-null  float64\n",
            " 5   Vb          12001 non-null  float64\n",
            " 6   Vc          12001 non-null  float64\n",
            " 7   Unnamed: 7  0 non-null      float64\n",
            " 8   Unnamed: 8  0 non-null      float64\n",
            "dtypes: float64(8), int64(1)\n",
            "memory usage: 843.9 KB\n"
          ]
        }
      ]
    },
    {
      "cell_type": "code",
      "source": [
        "#data cleaning\n",
        "df.isnull().sum()\n",
        "df.drop(['Unnamed: 7', 'Unnamed: 8'], axis=1, errors='ignore', inplace=True)\n"
      ],
      "metadata": {
        "id": "0HJMWKBig0Vb"
      },
      "execution_count": null,
      "outputs": []
    },
    {
      "cell_type": "code",
      "source": [
        "print(df.duplicated().sum())"
      ],
      "metadata": {
        "colab": {
          "base_uri": "https://localhost:8080/"
        },
        "id": "5UZWnVJlhOJq",
        "outputId": "09a047a3-0bee-4827-86de-942cff325817"
      },
      "execution_count": null,
      "outputs": [
        {
          "output_type": "stream",
          "name": "stdout",
          "text": [
            "0\n"
          ]
        }
      ]
    },
    {
      "cell_type": "code",
      "source": [
        "#training the data\n",
        "x_train,x_test,y_train,y_test = train_test_split(df.drop('Output (S)',axis=1),df['Output (S)'],random_state=42,test_size=0.2)"
      ],
      "metadata": {
        "id": "KfYEz_0bioQj"
      },
      "execution_count": null,
      "outputs": []
    },
    {
      "cell_type": "code",
      "source": [
        "#scaling\n",
        "sc = StandardScaler()\n",
        "x_train = sc.fit_transform(x_train)\n",
        "x_test = sc.transform(x_test)"
      ],
      "metadata": {
        "id": "bKW1aoGLiusC"
      },
      "execution_count": null,
      "outputs": []
    },
    {
      "cell_type": "code",
      "source": [
        "#model training\n",
        "em = pd.DataFrame(columns=['model_name','accuracy','precision','recall'])\n",
        "#logistic regression\n",
        "lr = LogisticRegression()\n",
        "lr.fit(x_train,y_train)\n",
        "y_pred = lr.predict(x_test)\n",
        "em.loc[em.shape[0]] = ['LogisticRegression',accuracy_score(y_test,y_pred),precision_score(y_test,y_pred),recall_score(y_test,y_pred)]\n",
        "print(classification_report(y_test,y_pred))"
      ],
      "metadata": {
        "colab": {
          "base_uri": "https://localhost:8080/"
        },
        "id": "pDzI856oi6ht",
        "outputId": "1da7277d-ef79-4efa-a1cb-bc7d0556e793"
      },
      "execution_count": null,
      "outputs": [
        {
          "output_type": "stream",
          "name": "stdout",
          "text": [
            "              precision    recall  f1-score   support\n",
            "\n",
            "           0       0.67      1.00      0.81      1306\n",
            "           1       1.00      0.42      0.60      1095\n",
            "\n",
            "    accuracy                           0.74      2401\n",
            "   macro avg       0.84      0.71      0.70      2401\n",
            "weighted avg       0.82      0.74      0.71      2401\n",
            "\n"
          ]
        }
      ]
    },
    {
      "cell_type": "code",
      "source": [
        "#decision tree classifier\n",
        "dt = DecisionTreeClassifier()\n",
        "dt.fit(x_train,y_train)\n",
        "y_pred = dt.predict(x_test)\n",
        "em.loc[em.shape[0]] = ['DecisionTreeClassifier',accuracy_score(y_test,y_pred),precision_score(y_test,y_pred),recall_score(y_test,y_pred)]\n",
        "print(classification_report(y_test,y_pred))"
      ],
      "metadata": {
        "colab": {
          "base_uri": "https://localhost:8080/"
        },
        "id": "tXGGuZOzjFE3",
        "outputId": "b5157eeb-7a5b-4e4e-bfd1-9237183b1d70"
      },
      "execution_count": null,
      "outputs": [
        {
          "output_type": "stream",
          "name": "stdout",
          "text": [
            "              precision    recall  f1-score   support\n",
            "\n",
            "           0       1.00      0.99      1.00      1306\n",
            "           1       0.99      1.00      0.99      1095\n",
            "\n",
            "    accuracy                           1.00      2401\n",
            "   macro avg       1.00      1.00      1.00      2401\n",
            "weighted avg       1.00      1.00      1.00      2401\n",
            "\n"
          ]
        }
      ]
    },
    {
      "cell_type": "code",
      "source": [
        "#svm\n",
        "sv = SVC()\n",
        "sv.fit(x_train,y_train)\n",
        "y_pred = sv.predict(x_test)\n",
        "em.loc[em.shape[0]] = ['SVC',accuracy_score(y_test,y_pred),precision_score(y_test,y_pred),recall_score(y_test,y_pred)]\n",
        "print(classification_report(y_test,y_pred))"
      ],
      "metadata": {
        "colab": {
          "base_uri": "https://localhost:8080/"
        },
        "id": "X5BMEjqPjYV3",
        "outputId": "21978e6b-faad-4578-e1e2-b705c80052f8"
      },
      "execution_count": null,
      "outputs": [
        {
          "output_type": "stream",
          "name": "stdout",
          "text": [
            "              precision    recall  f1-score   support\n",
            "\n",
            "           0       0.97      1.00      0.99      1306\n",
            "           1       1.00      0.97      0.98      1095\n",
            "\n",
            "    accuracy                           0.98      2401\n",
            "   macro avg       0.99      0.98      0.98      2401\n",
            "weighted avg       0.98      0.98      0.98      2401\n",
            "\n"
          ]
        }
      ]
    },
    {
      "cell_type": "code",
      "source": [
        "#k-means classification\n",
        "knn = KNeighborsClassifier()\n",
        "knn.fit(x_train,y_train)\n",
        "y_pred = knn.predict(x_test)\n",
        "em.loc[em.shape[0]] = ['KNeighborsClassifier',accuracy_score(y_test,y_pred),precision_score(y_test,y_pred),recall_score(y_test,y_pred)]\n",
        "print(classification_report(y_test,y_pred))"
      ],
      "metadata": {
        "colab": {
          "base_uri": "https://localhost:8080/"
        },
        "id": "xxQLfs7ujeEq",
        "outputId": "f1dc061d-fd14-4278-faf2-f4eedf19d8ea"
      },
      "execution_count": null,
      "outputs": [
        {
          "output_type": "stream",
          "name": "stdout",
          "text": [
            "              precision    recall  f1-score   support\n",
            "\n",
            "           0       1.00      1.00      1.00      1306\n",
            "           1       1.00      1.00      1.00      1095\n",
            "\n",
            "    accuracy                           1.00      2401\n",
            "   macro avg       1.00      1.00      1.00      2401\n",
            "weighted avg       1.00      1.00      1.00      2401\n",
            "\n"
          ]
        }
      ]
    },
    {
      "cell_type": "code",
      "source": [
        "#random forest classifier\n",
        "rf = RandomForestClassifier()\n",
        "rf.fit(x_train,y_train)\n",
        "y_pred = rf.predict(x_test)\n",
        "em.loc[em.shape[0]] = ['RandomForestClassifier',accuracy_score(y_test,y_pred),precision_score(y_test,y_pred),recall_score(y_test,y_pred)]\n",
        "print(classification_report(y_test,y_pred))"
      ],
      "metadata": {
        "colab": {
          "base_uri": "https://localhost:8080/"
        },
        "id": "FerXhiOdjkso",
        "outputId": "0dc8dd86-824b-454a-95de-1453eab6f997"
      },
      "execution_count": null,
      "outputs": [
        {
          "output_type": "stream",
          "name": "stdout",
          "text": [
            "              precision    recall  f1-score   support\n",
            "\n",
            "           0       1.00      1.00      1.00      1306\n",
            "           1       1.00      1.00      1.00      1095\n",
            "\n",
            "    accuracy                           1.00      2401\n",
            "   macro avg       1.00      1.00      1.00      2401\n",
            "weighted avg       1.00      1.00      1.00      2401\n",
            "\n"
          ]
        }
      ]
    },
    {
      "cell_type": "code",
      "source": [
        "# Get predictions for the test set using Logistic Regression\n",
        "y_pred_fault = sv.predict(x_test)\n",
        "\n",
        "# Map the output to \"Fault\" or \"No Fault\" based on the prediction\n",
        "fault_mapping = {0: \"No Fault\", 1: \"Fault\"}  # Adjust keys as per your dataset's output labels\n",
        "fault_status = [fault_mapping[label] for label in y_pred_fault]\n",
        "\n",
        "# Create a DataFrame to display actual vs predicted statuses\n",
        "output_df = pd.DataFrame({\n",
        "    'Actual Status': [fault_mapping[label] for label in y_test],\n",
        "    'Predicted Status': fault_status\n",
        "})\n",
        "\n",
        "# Display the first few rows of the DataFrame\n",
        "print(output_df.head())\n",
        "\n",
        "# Check the count of Fault and No Fault predictions\n",
        "print(\"\\nPrediction Counts:\")\n",
        "print(output_df['Predicted Status'].value_counts())\n",
        "\n",
        "# Save the results to a CSV file for review (optional)\n",
        "output_df.to_csv('fault_predictions.csv', index=False)\n",
        "\n",
        "# If you want to analyze further, you can compute confusion matrix and plot it\n",
        "from sklearn.metrics import ConfusionMatrixDisplay\n",
        "ConfusionMatrixDisplay.from_estimator(sv, x_test, y_test, display_labels=['No Fault', 'Fault'], cmap='Blues')\n",
        "plt.title(\"Confusion Matrix - SVM\")\n",
        "plt.show()\n"
      ],
      "metadata": {
        "colab": {
          "base_uri": "https://localhost:8080/",
          "height": 680
        },
        "id": "-EnOBlgHl6Xy",
        "outputId": "d8fec070-f856-40f7-a434-17659c6e2845"
      },
      "execution_count": null,
      "outputs": [
        {
          "output_type": "stream",
          "name": "stdout",
          "text": [
            "  Actual Status Predicted Status\n",
            "0      No Fault         No Fault\n",
            "1         Fault            Fault\n",
            "2      No Fault         No Fault\n",
            "3      No Fault         No Fault\n",
            "4      No Fault         No Fault\n",
            "\n",
            "Prediction Counts:\n",
            "Predicted Status\n",
            "No Fault    1341\n",
            "Fault       1060\n",
            "Name: count, dtype: int64\n"
          ]
        },
        {
          "output_type": "display_data",
          "data": {
            "text/plain": [
              "<Figure size 640x480 with 2 Axes>"
            ],
            "image/png": "[encoded data removed]"
          },
          "metadata": {}
        }
      ]
    },
    {
      "cell_type": "code",
      "source": [
        "# Testing with Sample Inputs\n",
        "sample_input = [\n",
        "    [0.5, 0.6, 0.7, 230, 231, 229],  # Example 1\n",
        "    [1.2, 1.1, 1.3, 220, 218, 219],  # Example 2\n",
        "    [0.0, 0.1, 0.1, 240, 242, 243],  # Example 3\n",
        "]\n",
        "\n",
        "# Scale the sample inputs\n",
        "sample_input_scaled = sc.transform(sample_input)\n",
        "\n",
        "# Predict with SVM\n",
        "sample_predictions_svm = sv.predict(sample_input_scaled)\n",
        "\n",
        "# Map predictions to \"Fault\" or \"No Fault\"\n",
        "fault_mapping = {0: \"No Fault\", 1: \"Fault\"}\n",
        "sample_status_svm = [fault_mapping[pred] for pred in sample_predictions_svm]\n",
        "\n",
        "# Display results for sample inputs\n",
        "for i, (inp, status) in enumerate(zip(sample_input, sample_status_svm), 1):\n",
        "    print(f\"Sample {i}: Input {inp} => Predicted Status: {status}\")"
      ],
      "metadata": {
        "colab": {
          "base_uri": "https://localhost:8080/"
        },
        "id": "Q_F1Ukramrf1",
        "outputId": "87732bf3-88d2-47bc-c147-e7c0efa6cba9"
      },
      "execution_count": null,
      "outputs": [
        {
          "output_type": "stream",
          "name": "stdout",
          "text": [
            "Sample 1: Input [0.5, 0.6, 0.7, 230, 231, 229] => Predicted Status: Fault\n",
            "Sample 2: Input [1.2, 1.1, 1.3, 220, 218, 219] => Predicted Status: Fault\n",
            "Sample 3: Input [0.0, 0.1, 0.1, 240, 242, 243] => Predicted Status: Fault\n"
          ]
        }
      ]
    },
    {
      "cell_type": "code",
      "source": [
        "from sklearn.model_selection import RandomizedSearchCV\n",
        "from scipy.stats import uniform\n",
        "\n",
        "# Define the parameter distribution (using uniform distribution for 'C' and 'gamma')\n",
        "param_dist = {\n",
        "    'C': uniform(0.1, 10),  # Randomly sample C between 0.1 and 10\n",
        "    'kernel': ['linear', 'rbf','poly'],  # Use 'linear' or 'rbf' kernels\n",
        "    'gamma': ['scale', 'auto'],  # 'scale' or 'auto' for gamma\n",
        "    'class_weight': [None, 'balanced']  # Include 'balanced' class weights\n",
        "}\n",
        "\n",
        "# Initialize the SVM model\n",
        "svm_model = SVC()\n",
        "\n",
        "# Apply RandomizedSearchCV with 10 iterations\n",
        "random_search = RandomizedSearchCV(svm_model, param_distributions=param_dist, n_iter=10, cv=5, scoring='accuracy', verbose=1, random_state=42)\n",
        "random_search.fit(x_train, y_train)\n",
        "\n",
        "# Get the best parameters from the random search\n",
        "best_params = random_search.best_params_\n",
        "print(\"\\nBest Hyperparameters from RandomizedSearchCV:\", best_params)\n",
        "\n",
        "# Use the best model from the random search\n",
        "svm_model_best = random_search.best_estimator_\n",
        "\n",
        "# Train the model with the best hyperparameters\n",
        "svm_model_best.fit(x_train, y_train)\n",
        "\n",
        "# Evaluate the tuned model on the test set\n",
        "y_pred = svm_model_best.predict(x_test)\n",
        "print(classification_report(y_test, y_pred))\n",
        "\n",
        "# Get predictions for the test set using the best tuned SVM model\n",
        "y_pred_fault = svm_model_best.predict(x_test)\n",
        "\n",
        "# Map the output to \"Fault\" or \"No Fault\" based on the prediction\n",
        "fault_mapping = {0: \"No Fault\", 1: \"Fault\"}  # Adjust keys as per your dataset's output labels\n",
        "fault_status = [fault_mapping[label] for label in y_pred_fault]\n",
        "\n",
        "# Create a DataFrame to display actual vs predicted statuses\n",
        "output_df = pd.DataFrame({\n",
        "    'Actual Status': [fault_mapping[label] for label in y_test],\n",
        "    'Predicted Status': fault_status\n",
        "})\n",
        "\n",
        "# Display the first few rows of the DataFrame\n",
        "print(output_df.head())\n",
        "\n",
        "# Save the results to a CSV file for review (optional)\n",
        "output_df.to_csv('fault_predictions_tuned_random_search.csv', index=False)\n",
        "\n",
        "# If you want to analyze further, you can compute confusion matrix and plot it\n",
        "from sklearn.metrics import ConfusionMatrixDisplay\n",
        "ConfusionMatrixDisplay.from_estimator(svm_model_best, x_test, y_test, display_labels=['No Fault', 'Fault'], cmap='Blues')\n",
        "plt.title(\"Confusion Matrix - Tuned SVM\")\n",
        "plt.show()\n",
        "\n"
      ],
      "metadata": {
        "colab": {
          "base_uri": "https://localhost:8080/",
          "height": 784
        },
        "id": "yY3dvursq4Ed",
        "outputId": "378234b5-c904-4384-bad6-29c280a24288"
      },
      "execution_count": null,
      "outputs": [
        {
          "output_type": "stream",
          "name": "stdout",
          "text": [
            "Fitting 5 folds for each of 10 candidates, totalling 50 fits\n",
            "\n",
            "Best Hyperparameters from RandomizedSearchCV: {'C': 7.896910002727692, 'class_weight': None, 'gamma': 'scale', 'kernel': 'rbf'}\n",
            "              precision    recall  f1-score   support\n",
            "\n",
            "           0       1.00      0.99      1.00      1306\n",
            "           1       0.99      1.00      0.99      1095\n",
            "\n",
            "    accuracy                           1.00      2401\n",
            "   macro avg       0.99      1.00      0.99      2401\n",
            "weighted avg       1.00      1.00      1.00      2401\n",
            "\n",
            "  Actual Status Predicted Status\n",
            "0      No Fault         No Fault\n",
            "1         Fault            Fault\n",
            "2      No Fault         No Fault\n",
            "3      No Fault         No Fault\n",
            "4      No Fault         No Fault\n"
          ]
        },
        {
          "output_type": "display_data",
          "data": {
            "text/plain": [
              "<Figure size 640x480 with 2 Axes>"
            ],
            "image/png": "[encoded data removed]"
          },
          "metadata": {}
        }
      ]
    },
    {
      "cell_type": "code",
      "source": [
        "# Fault mapping\n",
        "fault_mapping = {0: \"No Fault\", 1: \"Fault\"}\n",
        "\n",
        "# Sample Inputs\n",
        "sample_input = [\n",
        "    [0.2, 120, 0.5, 230, 0, 230],\n",
        "    [0.5, 0.1, 0.4, 242, 262, 250],\n",
        "    [0.6, 0.5, 0.3, 256, 224, 246],\n",
        "    [120, 52, 48, 0, 0, 230]\n",
        "]\n",
        "\n",
        "# Function to check for logical errors\n",
        "def validate_sample(sample):\n",
        "    if all(val > 50 for val in sample[:3]) and all(0 <= val <= 1 for val in sample[3:]):\n",
        "        return True  # Logical error condition met\n",
        "    return False\n",
        "\n",
        "# Initialize an empty list for results\n",
        "sample_status_svm = []\n",
        "\n",
        "# Process each sample\n",
        "for i, inp in enumerate(sample_input, 1):\n",
        "    if validate_sample(inp):\n",
        "        print(f\"Sample {i}: Input {inp} => ERROR: Invalid Input Conditions\")\n",
        "        sample_status_svm.append(\"ERROR\")\n",
        "    else:\n",
        "        # Scale the input\n",
        "        sample_scaled = sc.transform([inp])\n",
        "\n",
        "        # Predict the status\n",
        "        prediction = svm_model_best.predict(sample_scaled)[0]\n",
        "        status = fault_mapping[prediction]\n",
        "        sample_status_svm.append(status)\n",
        "\n",
        "        # Display the result\n",
        "        print(f\"Sample {i}: Input {inp} => Predicted Status: {status}\")\n"
      ],
      "metadata": {
        "id": "MoBL_5y4RBvK",
        "colab": {
          "base_uri": "https://localhost:8080/"
        },
        "outputId": "b7a1dba9-8668-427e-c331-76f37e84cbff"
      },
      "execution_count": null,
      "outputs": [
        {
          "output_type": "stream",
          "name": "stdout",
          "text": [
            "Sample 1: Input [0.2, 120, 0.5, 230, 0, 230] => Predicted Status: No Fault\n",
            "Sample 2: Input [0.5, 0.1, 0.4, 242, 262, 250] => Predicted Status: No Fault\n",
            "Sample 3: Input [0.6, 0.5, 0.3, 256, 224, 246] => Predicted Status: No Fault\n",
            "Sample 4: Input [120, 52, 48, 0, 0, 230] => Predicted Status: No Fault\n"
          ]
        }
      ]
    },
    {
      "cell_type": "code",
      "source": [
        "# Fault mapping\n",
        "fault_mapping = {0: \"No Fault\", 1: \"Fault\"}\n",
        "\n",
        "# Sample Inputs\n",
        "sample_input = [\n",
        "    [0.2, 120, 0.5, 230, 0, 230],\n",
        "    [0.5, 0.1, 0.4, 242, 262, 250],\n",
        "    [0.6, 0.5, 0.3, 256, 224, 246],\n",
        "    [120, 52, 48, 0, 0, 230]\n",
        "]\n",
        "\n",
        "# Function to check for logical errors\n",
        "def validate_sample(sample):\n",
        "    # If the first three values are >50 and the next three are between 0 and 1\n",
        "    if all(val > 50 for val in sample[:3]) and all(0 <= val <= 1 for val in sample[3:]):\n",
        "        return True  # Flag as invalid\n",
        "    return False\n",
        "\n",
        "# Results\n",
        "sample_status_svm = []\n",
        "\n",
        "# Process each sample\n",
        "for i, inp in enumerate(sample_input, 1):\n",
        "    if validate_sample(inp):\n",
        "        print(f\"Sample {i}: Input {inp} => ERROR: Invalid Input Conditions\")\n",
        "        sample_status_svm.append(\"ERROR\")\n",
        "    else:\n",
        "        # Scale the input\n",
        "        sample_scaled = sc.transform([inp])\n",
        "\n",
        "        # Predict the status\n",
        "        prediction = svm_model_best.predict(sample_scaled)[0]\n",
        "        status = fault_mapping[prediction]\n",
        "        sample_status_svm.append(status)\n",
        "\n",
        "        # Display the result\n",
        "        print(f\"Sample {i}: Input {inp} => Predicted Status: {status}\")\n"
      ],
      "metadata": {
        "colab": {
          "base_uri": "https://localhost:8080/"
        },
        "id": "K9AhJGEOWp-N",
        "outputId": "c563f872-54f5-4d4f-b315-4f00463c8fdb"
      },
      "execution_count": null,
      "outputs": [
        {
          "output_type": "stream",
          "name": "stdout",
          "text": [
            "Sample 1: Input [0.2, 120, 0.5, 230, 0, 230] => Predicted Status: No Fault\n",
            "Sample 2: Input [0.5, 0.1, 0.4, 242, 262, 250] => Predicted Status: No Fault\n",
            "Sample 3: Input [0.6, 0.5, 0.3, 256, 224, 246] => Predicted Status: No Fault\n",
            "Sample 4: Input [120, 52, 48, 0, 0, 230] => Predicted Status: No Fault\n"
          ]
        }
      ]
    }
  ]
}